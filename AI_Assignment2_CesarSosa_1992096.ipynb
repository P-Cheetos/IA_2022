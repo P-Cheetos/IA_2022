{
  "nbformat": 4,
  "nbformat_minor": 0,
  "metadata": {
    "colab": {
      "provenance": [],
      "authorship_tag": "ABX9TyNUe0iz8ILm6EY8p8+05a1C",
      "include_colab_link": true
    },
    "kernelspec": {
      "name": "python3",
      "display_name": "Python 3"
    },
    "language_info": {
      "name": "python"
    }
  },
  "cells": [
    {
      "cell_type": "markdown",
      "metadata": {
        "id": "view-in-github",
        "colab_type": "text"
      },
      "source": [
        "<a href=\"https://colab.research.google.com/github/P-Cheetos/IA_2022/blob/Assignments/AI_Assignment2_CesarSosa_1992096.ipynb\" target=\"_parent\"><img src=\"https://colab.research.google.com/assets/colab-badge.svg\" alt=\"Open In Colab\"/></a>"
      ]
    },
    {
      "cell_type": "markdown",
      "source": [
        "*   A2: Python exercises\n",
        "*   César Alonso Sosa García\n",
        "*   1992096\n",
        "*   N4 - N6\n",
        "\n"
      ],
      "metadata": {
        "id": "kZuuAuFAmxcX"
      }
    },
    {
      "cell_type": "code",
      "source": [
        "gname = input(\"Enter your name: \")\n",
        "gname_min = gname.lower()\n",
        "\n",
        "if gname_min != \"ana\" and gname_min != \"john\" and gname_min != \"peter\":\n",
        "  print(\"Why hello there,\", gname)\n",
        "else:\n",
        "  print(gname)"
      ],
      "metadata": {
        "colab": {
          "base_uri": "https://localhost:8080/"
        },
        "id": "jweRW6GTm6LY",
        "outputId": "8c78bbfb-005e-4566-b978-d856069846d1"
      },
      "execution_count": 54,
      "outputs": [
        {
          "output_type": "stream",
          "name": "stdout",
          "text": [
            "Enter your name: Kevin\n",
            "Why hello there, Kevin\n"
          ]
        }
      ]
    },
    {
      "cell_type": "code",
      "source": [
        "gname = input(\"Enter your name: \")\n",
        "gname_min = gname.lower()\n",
        "\n",
        "if gname_min != \"ana\" and gname_min != \"john\" and gname_min != \"peter\":\n",
        "  print(\"Why hello there,\", gname)\n",
        "else:\n",
        "  print(gname)"
      ],
      "metadata": {
        "colab": {
          "base_uri": "https://localhost:8080/"
        },
        "id": "ZZTuNL_ExBl2",
        "outputId": "6c47d3b5-c372-423b-8a6a-c8a25460197b"
      },
      "execution_count": 53,
      "outputs": [
        {
          "output_type": "stream",
          "name": "stdout",
          "text": [
            "Enter your name: Ana\n",
            "Ana\n"
          ]
        }
      ]
    },
    {
      "cell_type": "code",
      "source": [
        "Fruits = [\"Banana\", \"Mango\", \"Kiwi\"]\n",
        "lstfrt = Fruits[-1]\n",
        "print(lstfrt)\n",
        "Fruits.reverse()\n",
        "print(Fruits)\n",
        "lfn = Fruits[-1]\n",
        "print(lfn)"
      ],
      "metadata": {
        "colab": {
          "base_uri": "https://localhost:8080/"
        },
        "id": "bDlWHABRxLkg",
        "outputId": "20bb12e5-e91a-4095-a418-dec49fd58af1"
      },
      "execution_count": 81,
      "outputs": [
        {
          "output_type": "stream",
          "name": "stdout",
          "text": [
            "Kiwi\n",
            "['Kiwi', 'Mango', 'Banana']\n",
            "Banana\n"
          ]
        }
      ]
    },
    {
      "cell_type": "code",
      "source": [
        "the_list = [\"My\", \"name\", \"is\", \"Jeb\"]\n",
        "def frame(list):\n",
        "  col = len(max(list, key=len))\n",
        "  print('*' * (col + 2))\n",
        "  for word in list:\n",
        "    print('*{a:<{b}}*'.format(a=word, b=col))\n",
        "  print('*' * (col + 2 ))\n",
        "frame(the_list)"
      ],
      "metadata": {
        "colab": {
          "base_uri": "https://localhost:8080/"
        },
        "id": "Kgzdr5btCvEQ",
        "outputId": "51da6f65-3c36-4719-ec9c-1d06d802cef6"
      },
      "execution_count": 89,
      "outputs": [
        {
          "output_type": "stream",
          "name": "stdout",
          "text": [
            "******\n",
            "*My  *\n",
            "*name*\n",
            "*is  *\n",
            "*Jeb *\n",
            "******\n"
          ]
        }
      ]
    }
  ]
}